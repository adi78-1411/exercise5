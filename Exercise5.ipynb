{
  "nbformat": 4,
  "nbformat_minor": 0,
  "metadata": {
    "colab": {
      "name": "Exercise5.ipynb",
      "provenance": [],
      "collapsed_sections": [],
      "authorship_tag": "ABX9TyPqJXspyyWKvaurJrCKNlwV",
      "include_colab_link": true
    },
    "kernelspec": {
      "name": "python3",
      "display_name": "Python 3"
    }
  },
  "cells": [
    {
      "cell_type": "markdown",
      "metadata": {
        "id": "view-in-github",
        "colab_type": "text"
      },
      "source": [
        "<a href=\"https://colab.research.google.com/github/adi78-1411/exercise5/blob/master/Exercise5.ipynb\" target=\"_parent\"><img src=\"https://colab.research.google.com/assets/colab-badge.svg\" alt=\"Open In Colab\"/></a>"
      ]
    },
    {
      "cell_type": "code",
      "metadata": {
        "colab": {
          "base_uri": "https://localhost:8080/"
        },
        "id": "D6SeoBW4UnMy",
        "outputId": "456491d7-3fdf-466a-b42b-29283e8e98bc"
      },
      "source": [
        "a = 5\r\n",
        "b = 10\r\n",
        "\r\n",
        "sum = a + b\r\n",
        "product = a*b\r\n",
        "division = b/a\r\n",
        "difference = b - a\r\n",
        "print(\"The sum is \", sum)\r\n",
        "print(\"The product is \", product)\r\n",
        "print(\"The division is\", division)\r\n",
        "print(\"The difference is \", difference)\r\n"
      ],
      "execution_count": 2,
      "outputs": [
        {
          "output_type": "stream",
          "text": [
            "The sum is  15\n",
            "The product is  50\n",
            "The division is 2.0\n",
            "The difference is  5\n"
          ],
          "name": "stdout"
        }
      ]
    }
  ]
}